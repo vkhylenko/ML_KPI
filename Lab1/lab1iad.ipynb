{
 "cells": [
  {
   "cell_type": "markdown",
   "metadata": {},
   "source": [
    "# Task 1 IAD"
   ]
  },
  {
   "cell_type": "markdown",
   "metadata": {},
   "source": [
    "Розглянути критерiй якостi кластеризацiї - ентропiю розбиття:\n",
    "\n",
    "$$PE = -{\\sum_{j=0}^N \\sum_{k=1}^g u_{kj} \\ln u_{kj} \\over N},$$\n",
    "\n",
    "де $N$ - задана кiлькiсть об’єктiв, якi кластеризуються, $1 \\le g \\le N$ - задана кiлькiсть кластерiв, $U = \\{(u_{kj})|k = 1, ... ,g, j = 1, ... N\\}$ - матриця розбиття, $u_{kj}\\in(0, 1]$, причому $u_{kj}= 1$ означає приналежнiсть $j$-го об’єкту $k$-му кластеру. $\\sum_{k=1}^g u_{kj} = 1, \\sum_{j=1}^N u_{kj} \\lt N.$\n",
    "\n",
    "Використовуючи результати моделювання великої кiлькостi матриць розбиття, показати, що $$PE \\in [0, \\ln g]$$\n"
   ]
  },
  {
   "cell_type": "code",
   "execution_count": 10,
   "metadata": {},
   "outputs": [],
   "source": [
    "import numpy as np\n",
    "import matplotlib.pyplot as plt\n",
    "import math\n",
    "import random"
   ]
  },
  {
   "cell_type": "code",
   "execution_count": 5,
   "metadata": {},
   "outputs": [],
   "source": [
    "N = 1000 #кол-во кластеризируемых обьектов\n",
    "g = 5 #кол-во кластеров"
   ]
  },
  {
   "cell_type": "markdown",
   "metadata": {},
   "source": [
    "### Generarion of matrix and finding enthropy"
   ]
  },
  {
   "cell_type": "code",
   "execution_count": 6,
   "metadata": {},
   "outputs": [],
   "source": [
    "def ugen():\n",
    "    u_matrix = np.random.rand(g,N)\n",
    "    u_matrix = u_matrix / u_matrix.sum(axis = 0,keepdims = 1)  #keepdims returned array \n",
    "\n",
    "    ln_u = np.log(u_matrix)  # matrix with ln(uij)\n",
    "    pe = - np.sum(u_matrix* ln_u) / N\n",
    "    return pe\n",
    "    #print(pe)"
   ]
  },
  {
   "cell_type": "code",
   "execution_count": 7,
   "metadata": {},
   "outputs": [
    {
     "data": {
      "text/plain": [
       "1.4367667948961298"
      ]
     },
     "execution_count": 7,
     "metadata": {},
     "output_type": "execute_result"
    }
   ],
   "source": [
    "ugen()"
   ]
  },
  {
   "cell_type": "markdown",
   "metadata": {},
   "source": [
    "### Plot"
   ]
  },
  {
   "cell_type": "code",
   "execution_count": 5,
   "metadata": {},
   "outputs": [
    {
     "data": {
      "image/png": "[encoded data removed]",
      "text/plain": [
       "<Figure size 432x288 with 1 Axes>"
      ]
     },
     "metadata": {
      "needs_background": "light"
     },
     "output_type": "display_data"
    }
   ],
   "source": [
    "i = 0\n",
    "resdata = np.array([0])\n",
    "while i < 100:\n",
    "    resdata = np.append(resdata, ugen())\n",
    "    i = i + 1\n",
    "\n",
    "#print(resdata)\n",
    "\n",
    "plt.plot(np.arange(101), resdata, ',')\n",
    "plt.axhline(y=math.log(g))\n",
    "plt.title(u'Значения энтропии разбиения для 100 сгенерированных матриц разбиения')\n",
    "\n",
    "plt.ylabel(u'Значение энтропии')\n",
    "plt.xlabel(u'Номер примера')\n",
    "plt.axis([0, 100, 0, math.log(g) + 1])\n",
    "plt.show()"
   ]
  },
  {
   "cell_type": "code",
   "execution_count": 2,
   "metadata": {},
   "outputs": [],
   "source": [
    "from sklearn.datasets import make_blobs"
   ]
  },
  {
   "cell_type": "code",
   "execution_count": 8,
   "metadata": {},
   "outputs": [],
   "source": [
    "n_samples_1 = 1000\n",
    "n_samples_2 = 100\n",
    "centers = [[0.0, 0.0] , [2.0, 2.0]]\n",
    "clusters_std = [1.5, 0.5]\n",
    "X, y = make_blobs(n_samples=[n_samples_1, n_samples_2],\n",
    "        centers=centers,\n",
    "        cluster_std=clusters_std,\n",
    "        random_state=0, shuffle=False)"
   ]
  },
  {
   "cell_type": "code",
   "execution_count": null,
   "metadata": {},
   "outputs": [],
   "source": []
  }
 ],
 "metadata": {
  "kernelspec": {
   "display_name": "Python 3",
   "language": "python",
   "name": "python3"
  },
  "language_info": {
   "codemirror_mode": {
    "name": "ipython",
    "version": 3
   },
   "file_extension": ".py",
   "mimetype": "text/x-python",
   "name": "python",
   "nbconvert_exporter": "python",
   "pygments_lexer": "ipython3",
   "version": "3.6.9"
  }
 },
 "nbformat": 4,
 "nbformat_minor": 2
}
